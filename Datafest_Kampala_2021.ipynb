{
  "nbformat": 4,
  "nbformat_minor": 0,
  "metadata": {
    "kernelspec": {
      "display_name": "Python 3",
      "language": "python",
      "name": "python3"
    },
    "language_info": {
      "codemirror_mode": {
        "name": "ipython",
        "version": 3
      },
      "file_extension": ".py",
      "mimetype": "text/x-python",
      "name": "python",
      "nbconvert_exporter": "python",
      "pygments_lexer": "ipython3",
      "version": "3.8.3"
    },
    "colab": {
      "name": "Datafest Kampala 2021 - Final.ipynb",
      "provenance": [],
      "collapsed_sections": [],
      "toc_visible": true
    }
  },
  "cells": [
    {
      "cell_type": "markdown",
      "metadata": {
        "id": "2YQ39vTfTg4h"
      },
      "source": [
        "# **Don’t Get Lost in the Random Forests: A Beginner’s Guide - Tutorial**\n",
        "---\n",
        "Moses Bomera, [Emata Uganda](https://www.emata.ug/)"
      ]
    },
    {
      "cell_type": "code",
      "metadata": {
        "id": "ftIBP6Lbhwv1"
      },
      "source": [
        "# @title [IMPORTANT] CLICK PLAY ICON TO CONFIGURE NOTEBOOK. {display-mode: \"form\"}\n",
        "%%capture\n",
        "# Install these libraries\n",
        "!pip install dython\n",
        "!pip install category_encoders\n",
        "\n",
        "# Download the dataset to use.\n",
        "!wget  https://raw.githubusercontent.com/MosesBomera/DatafestKampala2021/main/weight_class_data.csv\n",
        "\n",
        "# Libraries\n",
        "import os\n",
        "import pandas as pd\n",
        "import numpy as np\n",
        "import matplotlib.pyplot as plt\n",
        "from sklearn.model_selection import GridSearchCV, StratifiedKFold, StratifiedShuffleSplit\n",
        "import seaborn as sns\n",
        "from scipy import stats\n",
        "\n",
        "from sklearn.metrics import precision_score, recall_score, f1_score\n",
        "from sklearn.metrics import plot_confusion_matrix\n",
        "from sklearn.model_selection import cross_val_predict\n",
        "\n",
        "from dython.nominal import associations, correlation_ratio\n",
        "%matplotlib inline\n",
        "# Ignore warnings\n",
        "import warnings\n",
        "warnings.filterwarnings('ignore')\n",
        "\n",
        "\n",
        "# Directory to save mpl plots.\n",
        "ROOT_DIR = \".\"\n",
        "\n",
        "# Utility functions\n",
        "def feature_counts(feature, target):\n",
        "    \"\"\"\n",
        "        Plots the count of a given value of a variable with regards to the target varaible.\n",
        "\n",
        "        feature <str> the feature to analyze.\n",
        "        target <str> the target variable.\n",
        "    \"\"\"\n",
        "    fig, ax = plt.subplots(figsize=(15, 9))\n",
        "    ax = sns.countplot(x=feature, hue=target, data=df)\n",
        "    # for p in ax.patches:\n",
        "    #     height = p.get_height()\n",
        "    #     ax.text(p.get_x() + p.get_width()/2.0, \n",
        "    #             height + 3,\n",
        "    #            '{:1.4f}'.format(height/df.shape[0]),\n",
        "    #            ha='center')\n",
        "\n",
        "def plot_scores(precision, recall, fscore):\n",
        "    \"\"\"\n",
        "        Plots the three scores for each class.\n",
        "    \"\"\"\n",
        "    width = 0.25\n",
        "    \n",
        "    x = np.arange(0,7)\n",
        "    fig = plt.figure()\n",
        "    ax = fig.add_subplot(111)\n",
        "    \n",
        "    ax = plt.subplot(111)\n",
        "    p = ax.bar(x - width, precision, width=0.2, color='b', align='center')\n",
        "    r = ax.bar(x , recall, width=0.2, color='g', align='center')\n",
        "    f = ax.bar(x + width, fscore, width=0.2, color='r', align='center')\n",
        "    ax.legend( (p[0], r[0], f[0]), ('precision', 'recall', 'f1_score') )\n",
        "    plt.show()\n",
        "\n",
        "def scores(clf, y_true):\n",
        "    \"\"\"\n",
        "        Return the precision_score, recall_score and f1_score for a given classifier.\n",
        "    \"\"\"\n",
        "    y_pred = cross_val_predict(clf, X_train, y_train, cv=5)\n",
        "    fscore = f1_score(y_true, y_pred, average=None)\n",
        "    precision = precision_score(y_true, y_pred, average=None)\n",
        "    recall = recall_score(y_true, y_pred, average=None)\n",
        "    print(f\"precision: {precision}\", f\"recall: {recall}\",f\"f1_score: {fscore}\", sep='\\n')\n",
        "    return fscore, precision, recall "
      ],
      "execution_count": null,
      "outputs": []
    },
    {
      "cell_type": "markdown",
      "metadata": {
        "id": "wPgVDel5YJTE"
      },
      "source": [
        "## **Load the data**"
      ]
    },
    {
      "cell_type": "markdown",
      "metadata": {
        "id": "SUrWNZd7jNnX"
      },
      "source": [
        "The table below gives a description of the not so clear column names."
      ]
    },
    {
      "cell_type": "markdown",
      "metadata": {
        "id": "MmXVbVJ1cxB1"
      },
      "source": [
        "\n",
        "| Column | Definition |\n",
        "| --- | --- |\n",
        "| Gender | Gender of the research subject |\n",
        "| Age | Age of the research subject|\n",
        "| Height | Height of the research subject|\n",
        "| Weight | Weight of the research subject |\n",
        "| family_history_with_overweight | family history of obesity |\n",
        "| FAVC | Do you eat high calorific food frequently? |\n",
        "| FCVC | Do you usually eat vegetables in your meals? |\n",
        "| NCP | How many meals do you have daily? |\n",
        "| CAEC | Do you eat any food between meals? |\n",
        "| SMOKE | Does the research subject smoke |\n",
        "| CH2O | How much water do you drink daily |\n",
        "| SCC | Do you monitor the calories you eat daily |\n",
        "| FAF | How often do you exercise? |\n",
        "| TUE | how much time do you use technological devices such as cell phone? |\n",
        "| CALC | How often do you drink alcohol |\n",
        "| MTRANS | Which transportation mode do you use most frequently? |\n",
        "| Weight_classification | The weight classification given the features. |"
      ]
    },
    {
      "cell_type": "code",
      "metadata": {
        "colab": {
          "base_uri": "https://localhost:8080/",
          "height": 215
        },
        "id": "85qJqguyTg4t",
        "outputId": "9d3577dc-7e5e-46ca-99c4-708ee68e6423"
      },
      "source": [
        "df = pd.read_csv('weight_class_data.csv')\n",
        "df.head()"
      ],
      "execution_count": null,
      "outputs": [
        {
          "output_type": "execute_result",
          "data": {
            "text/html": [
              "<div>\n",
              "<style scoped>\n",
              "    .dataframe tbody tr th:only-of-type {\n",
              "        vertical-align: middle;\n",
              "    }\n",
              "\n",
              "    .dataframe tbody tr th {\n",
              "        vertical-align: top;\n",
              "    }\n",
              "\n",
              "    .dataframe thead th {\n",
              "        text-align: right;\n",
              "    }\n",
              "</style>\n",
              "<table border=\"1\" class=\"dataframe\">\n",
              "  <thead>\n",
              "    <tr style=\"text-align: right;\">\n",
              "      <th></th>\n",
              "      <th>Gender</th>\n",
              "      <th>Age</th>\n",
              "      <th>Height</th>\n",
              "      <th>Weight</th>\n",
              "      <th>family_history_with_overweight</th>\n",
              "      <th>FAVC</th>\n",
              "      <th>FCVC</th>\n",
              "      <th>NCP</th>\n",
              "      <th>CAEC</th>\n",
              "      <th>SMOKE</th>\n",
              "      <th>CH2O</th>\n",
              "      <th>SCC</th>\n",
              "      <th>FAF</th>\n",
              "      <th>TUE</th>\n",
              "      <th>CALC</th>\n",
              "      <th>MTRANS</th>\n",
              "      <th>Weight_classification</th>\n",
              "    </tr>\n",
              "  </thead>\n",
              "  <tbody>\n",
              "    <tr>\n",
              "      <th>0</th>\n",
              "      <td>Female</td>\n",
              "      <td>21.0</td>\n",
              "      <td>1.62</td>\n",
              "      <td>64.0</td>\n",
              "      <td>yes</td>\n",
              "      <td>no</td>\n",
              "      <td>2.0</td>\n",
              "      <td>3.0</td>\n",
              "      <td>Sometimes</td>\n",
              "      <td>no</td>\n",
              "      <td>2.0</td>\n",
              "      <td>no</td>\n",
              "      <td>0.0</td>\n",
              "      <td>1.0</td>\n",
              "      <td>no</td>\n",
              "      <td>Public_Transportation</td>\n",
              "      <td>Normal_Weight</td>\n",
              "    </tr>\n",
              "    <tr>\n",
              "      <th>1</th>\n",
              "      <td>Female</td>\n",
              "      <td>21.0</td>\n",
              "      <td>1.52</td>\n",
              "      <td>56.0</td>\n",
              "      <td>yes</td>\n",
              "      <td>no</td>\n",
              "      <td>3.0</td>\n",
              "      <td>3.0</td>\n",
              "      <td>Sometimes</td>\n",
              "      <td>yes</td>\n",
              "      <td>3.0</td>\n",
              "      <td>yes</td>\n",
              "      <td>3.0</td>\n",
              "      <td>0.0</td>\n",
              "      <td>Sometimes</td>\n",
              "      <td>Public_Transportation</td>\n",
              "      <td>Normal_Weight</td>\n",
              "    </tr>\n",
              "    <tr>\n",
              "      <th>2</th>\n",
              "      <td>Male</td>\n",
              "      <td>23.0</td>\n",
              "      <td>1.80</td>\n",
              "      <td>77.0</td>\n",
              "      <td>yes</td>\n",
              "      <td>no</td>\n",
              "      <td>2.0</td>\n",
              "      <td>3.0</td>\n",
              "      <td>Sometimes</td>\n",
              "      <td>no</td>\n",
              "      <td>2.0</td>\n",
              "      <td>no</td>\n",
              "      <td>2.0</td>\n",
              "      <td>1.0</td>\n",
              "      <td>Frequently</td>\n",
              "      <td>Public_Transportation</td>\n",
              "      <td>Normal_Weight</td>\n",
              "    </tr>\n",
              "    <tr>\n",
              "      <th>3</th>\n",
              "      <td>Male</td>\n",
              "      <td>27.0</td>\n",
              "      <td>1.80</td>\n",
              "      <td>87.0</td>\n",
              "      <td>no</td>\n",
              "      <td>no</td>\n",
              "      <td>3.0</td>\n",
              "      <td>3.0</td>\n",
              "      <td>Sometimes</td>\n",
              "      <td>no</td>\n",
              "      <td>2.0</td>\n",
              "      <td>no</td>\n",
              "      <td>2.0</td>\n",
              "      <td>0.0</td>\n",
              "      <td>Frequently</td>\n",
              "      <td>Walking</td>\n",
              "      <td>Overweight_Level_I</td>\n",
              "    </tr>\n",
              "    <tr>\n",
              "      <th>4</th>\n",
              "      <td>Male</td>\n",
              "      <td>22.0</td>\n",
              "      <td>1.78</td>\n",
              "      <td>89.8</td>\n",
              "      <td>no</td>\n",
              "      <td>no</td>\n",
              "      <td>2.0</td>\n",
              "      <td>1.0</td>\n",
              "      <td>Sometimes</td>\n",
              "      <td>no</td>\n",
              "      <td>2.0</td>\n",
              "      <td>no</td>\n",
              "      <td>0.0</td>\n",
              "      <td>0.0</td>\n",
              "      <td>Sometimes</td>\n",
              "      <td>Public_Transportation</td>\n",
              "      <td>Overweight_Level_II</td>\n",
              "    </tr>\n",
              "  </tbody>\n",
              "</table>\n",
              "</div>"
            ],
            "text/plain": [
              "   Gender   Age  ...                 MTRANS  Weight_classification\n",
              "0  Female  21.0  ...  Public_Transportation          Normal_Weight\n",
              "1  Female  21.0  ...  Public_Transportation          Normal_Weight\n",
              "2    Male  23.0  ...  Public_Transportation          Normal_Weight\n",
              "3    Male  27.0  ...                Walking     Overweight_Level_I\n",
              "4    Male  22.0  ...  Public_Transportation    Overweight_Level_II\n",
              "\n",
              "[5 rows x 17 columns]"
            ]
          },
          "metadata": {
            "tags": []
          },
          "execution_count": 26
        }
      ]
    },
    {
      "cell_type": "markdown",
      "metadata": {
        "id": "Lfjk9E0kqxaC"
      },
      "source": [
        "<font color=\"blue\"> **What kind of task can we come up with?**"
      ]
    },
    {
      "cell_type": "markdown",
      "metadata": {
        "id": "qKbtb3kCTg4x"
      },
      "source": [
        "## **Exploratory Data Analysis (EDA)**"
      ]
    },
    {
      "cell_type": "code",
      "metadata": {
        "scrolled": false,
        "id": "xANMCEhCTg4y",
        "outputId": "cfec0eaf-75dd-4022-e997-696cf707a35c"
      },
      "source": [
        "# general information about the dataset.\n",
        "df.info()"
      ],
      "execution_count": null,
      "outputs": [
        {
          "output_type": "stream",
          "text": [
            "<class 'pandas.core.frame.DataFrame'>\n",
            "RangeIndex: 2111 entries, 0 to 2110\n",
            "Data columns (total 17 columns):\n",
            " #   Column                          Non-Null Count  Dtype  \n",
            "---  ------                          --------------  -----  \n",
            " 0   Gender                          2111 non-null   object \n",
            " 1   Age                             2111 non-null   float64\n",
            " 2   Height                          2111 non-null   float64\n",
            " 3   Weight                          2111 non-null   float64\n",
            " 4   family_history_with_overweight  2111 non-null   object \n",
            " 5   FAVC                            2111 non-null   object \n",
            " 6   FCVC                            2111 non-null   float64\n",
            " 7   NCP                             2111 non-null   float64\n",
            " 8   CAEC                            2111 non-null   object \n",
            " 9   SMOKE                           2111 non-null   object \n",
            " 10  CH2O                            2111 non-null   float64\n",
            " 11  SCC                             2111 non-null   object \n",
            " 12  FAF                             2111 non-null   float64\n",
            " 13  TUE                             2111 non-null   float64\n",
            " 14  CALC                            2111 non-null   object \n",
            " 15  MTRANS                          2111 non-null   object \n",
            " 16  Weight_classification           2111 non-null   object \n",
            "dtypes: float64(8), object(9)\n",
            "memory usage: 280.5+ KB\n"
          ],
          "name": "stdout"
        }
      ]
    },
    {
      "cell_type": "markdown",
      "metadata": {
        "id": "JWjvvPLWTg4z"
      },
      "source": [
        ">- The dataset has 2111 instances.\n",
        "- The dataset has 16 features, and 1 target variable.\n",
        "- There aren't any null values.\n",
        "-There are both categorical and numerical features, nine and eight respectively."
      ]
    },
    {
      "cell_type": "code",
      "metadata": {
        "scrolled": true,
        "id": "QaQeSFgITg4z",
        "outputId": "06dcd5bc-5cd4-4270-c80f-c0c9242957eb"
      },
      "source": [
        "# Descriptive statistics for the dataset to ascertain the central tendency.\n",
        "df.describe()"
      ],
      "execution_count": null,
      "outputs": [
        {
          "output_type": "execute_result",
          "data": {
            "text/html": [
              "<div>\n",
              "<style scoped>\n",
              "    .dataframe tbody tr th:only-of-type {\n",
              "        vertical-align: middle;\n",
              "    }\n",
              "\n",
              "    .dataframe tbody tr th {\n",
              "        vertical-align: top;\n",
              "    }\n",
              "\n",
              "    .dataframe thead th {\n",
              "        text-align: right;\n",
              "    }\n",
              "</style>\n",
              "<table border=\"1\" class=\"dataframe\">\n",
              "  <thead>\n",
              "    <tr style=\"text-align: right;\">\n",
              "      <th></th>\n",
              "      <th>Age</th>\n",
              "      <th>Height</th>\n",
              "      <th>Weight</th>\n",
              "      <th>FCVC</th>\n",
              "      <th>NCP</th>\n",
              "      <th>CH2O</th>\n",
              "      <th>FAF</th>\n",
              "      <th>TUE</th>\n",
              "    </tr>\n",
              "  </thead>\n",
              "  <tbody>\n",
              "    <tr>\n",
              "      <th>count</th>\n",
              "      <td>2111.000000</td>\n",
              "      <td>2111.000000</td>\n",
              "      <td>2111.000000</td>\n",
              "      <td>2111.000000</td>\n",
              "      <td>2111.000000</td>\n",
              "      <td>2111.000000</td>\n",
              "      <td>2111.000000</td>\n",
              "      <td>2111.000000</td>\n",
              "    </tr>\n",
              "    <tr>\n",
              "      <th>mean</th>\n",
              "      <td>24.312600</td>\n",
              "      <td>1.701677</td>\n",
              "      <td>86.586058</td>\n",
              "      <td>2.419043</td>\n",
              "      <td>2.685628</td>\n",
              "      <td>2.008011</td>\n",
              "      <td>1.010298</td>\n",
              "      <td>0.657866</td>\n",
              "    </tr>\n",
              "    <tr>\n",
              "      <th>std</th>\n",
              "      <td>6.345968</td>\n",
              "      <td>0.093305</td>\n",
              "      <td>26.191172</td>\n",
              "      <td>0.533927</td>\n",
              "      <td>0.778039</td>\n",
              "      <td>0.612953</td>\n",
              "      <td>0.850592</td>\n",
              "      <td>0.608927</td>\n",
              "    </tr>\n",
              "    <tr>\n",
              "      <th>min</th>\n",
              "      <td>14.000000</td>\n",
              "      <td>1.450000</td>\n",
              "      <td>39.000000</td>\n",
              "      <td>1.000000</td>\n",
              "      <td>1.000000</td>\n",
              "      <td>1.000000</td>\n",
              "      <td>0.000000</td>\n",
              "      <td>0.000000</td>\n",
              "    </tr>\n",
              "    <tr>\n",
              "      <th>25%</th>\n",
              "      <td>19.947192</td>\n",
              "      <td>1.630000</td>\n",
              "      <td>65.473343</td>\n",
              "      <td>2.000000</td>\n",
              "      <td>2.658738</td>\n",
              "      <td>1.584812</td>\n",
              "      <td>0.124505</td>\n",
              "      <td>0.000000</td>\n",
              "    </tr>\n",
              "    <tr>\n",
              "      <th>50%</th>\n",
              "      <td>22.777890</td>\n",
              "      <td>1.700499</td>\n",
              "      <td>83.000000</td>\n",
              "      <td>2.385502</td>\n",
              "      <td>3.000000</td>\n",
              "      <td>2.000000</td>\n",
              "      <td>1.000000</td>\n",
              "      <td>0.625350</td>\n",
              "    </tr>\n",
              "    <tr>\n",
              "      <th>75%</th>\n",
              "      <td>26.000000</td>\n",
              "      <td>1.768464</td>\n",
              "      <td>107.430682</td>\n",
              "      <td>3.000000</td>\n",
              "      <td>3.000000</td>\n",
              "      <td>2.477420</td>\n",
              "      <td>1.666678</td>\n",
              "      <td>1.000000</td>\n",
              "    </tr>\n",
              "    <tr>\n",
              "      <th>max</th>\n",
              "      <td>61.000000</td>\n",
              "      <td>1.980000</td>\n",
              "      <td>173.000000</td>\n",
              "      <td>3.000000</td>\n",
              "      <td>4.000000</td>\n",
              "      <td>3.000000</td>\n",
              "      <td>3.000000</td>\n",
              "      <td>2.000000</td>\n",
              "    </tr>\n",
              "  </tbody>\n",
              "</table>\n",
              "</div>"
            ],
            "text/plain": [
              "               Age       Height       Weight         FCVC          NCP  \\\n",
              "count  2111.000000  2111.000000  2111.000000  2111.000000  2111.000000   \n",
              "mean     24.312600     1.701677    86.586058     2.419043     2.685628   \n",
              "std       6.345968     0.093305    26.191172     0.533927     0.778039   \n",
              "min      14.000000     1.450000    39.000000     1.000000     1.000000   \n",
              "25%      19.947192     1.630000    65.473343     2.000000     2.658738   \n",
              "50%      22.777890     1.700499    83.000000     2.385502     3.000000   \n",
              "75%      26.000000     1.768464   107.430682     3.000000     3.000000   \n",
              "max      61.000000     1.980000   173.000000     3.000000     4.000000   \n",
              "\n",
              "              CH2O          FAF          TUE  \n",
              "count  2111.000000  2111.000000  2111.000000  \n",
              "mean      2.008011     1.010298     0.657866  \n",
              "std       0.612953     0.850592     0.608927  \n",
              "min       1.000000     0.000000     0.000000  \n",
              "25%       1.584812     0.124505     0.000000  \n",
              "50%       2.000000     1.000000     0.625350  \n",
              "75%       2.477420     1.666678     1.000000  \n",
              "max       3.000000     3.000000     2.000000  "
            ]
          },
          "metadata": {
            "tags": []
          },
          "execution_count": 94
        }
      ]
    },
    {
      "cell_type": "markdown",
      "metadata": {
        "id": "rCvGoal5Tg41"
      },
      "source": [
        "### **Feature Types**\n",
        "***\n",
        "**Notes** <br>\n",
        "**Categorical Type:**\n",
        "- **Nominal** type has two or more categories that have no intrinsic order.\n",
        "    > - `MTRANS`\n",
        "\n",
        "- **Dichotomous** type, is a nominal variable with only two categories.\n",
        "   > - `Gender`\n",
        "   > - `family_history_with_overweight`\n",
        "   > - `FAVC`\n",
        "   > - `SMOKE`\n",
        "   > - `SCC`\n",
        "  \n",
        "- **Ordinal** variables that have two or more categories just like nominal variables but can be ranked or ordered.\n",
        "   > - `FCVC*`\n",
        "   > - `NCP*`\n",
        "   > - `CAEC`\n",
        "   > - `CH2O*`\n",
        "   > - `FAF*`\n",
        "   > - `TUE*`\n",
        "   > - `CALC`\n",
        "***\n",
        "**Numerical Type:**\n",
        "- **Continuous**\n",
        "   > - `Age`\n",
        "   > - `Height`\n",
        "   > - `Weight`\n",
        "   \n",
        "*Nominal values already encoded."
      ]
    },
    {
      "cell_type": "markdown",
      "metadata": {
        "id": "8Xi4yPNWTg41"
      },
      "source": [
        "Relations between features and the target variable `Weight_classification`."
      ]
    },
    {
      "cell_type": "code",
      "metadata": {
        "scrolled": false,
        "id": "K0zL0oCATg42",
        "colab": {
          "base_uri": "https://localhost:8080/"
        },
        "outputId": "1cdbd083-cac5-4a0e-c8d6-13754f9b140c"
      },
      "source": [
        "mask = df.dtypes == np.object\n",
        "categorical_cols = df.columns[mask]\n",
        "categorical_cols"
      ],
      "execution_count": null,
      "outputs": [
        {
          "output_type": "execute_result",
          "data": {
            "text/plain": [
              "Index(['Gender', 'family_history_with_overweight', 'FAVC', 'CAEC', 'SMOKE',\n",
              "       'SCC', 'CALC', 'MTRANS', 'Weight_classification'],\n",
              "      dtype='object')"
            ]
          },
          "metadata": {
            "tags": []
          },
          "execution_count": 29
        }
      ]
    },
    {
      "cell_type": "markdown",
      "metadata": {
        "id": "4SmUs9uuTg42"
      },
      "source": [
        "The section contains an analysis of correlations between the target variable using the measures below:\n",
        "***\n",
        "**Notes:**\n",
        "- For the **categorical-to-categorical** cases, Cramer's V is used, it a measure of association between two categorical features, gives the association value in a range of [0,1], where 0 means no association and 1 is full association.\n",
        "- For **categorical-to-continuous** cases, correlation ratio is used, it is defined as the weighted variance of the mean of each category divided by the variance of all samples, for two values, it gives an output between 0 and 1, the closer the value is to one, the stronger the relation.\n",
        "- Finally, for **continuous-to-continuous** cases, the Pearson's R method is used. It gives a value between 1 and -1, where 1 is positive strong correlation while -1 is strong negative correlation."
      ]
    },
    {
      "cell_type": "code",
      "metadata": {
        "id": "mKMyWRfKTg43",
        "colab": {
          "base_uri": "https://localhost:8080/",
          "height": 852
        },
        "outputId": "8b2c3939-1c1b-4a0d-b341-0e176ee073be"
      },
      "source": [
        "# The associations method from dython package is used, it neatly calculates the respective correlation given\n",
        "# whether the case is categorical or continuous.\n",
        "corr_matrix = associations(df, figsize=(17, 12));"
      ],
      "execution_count": null,
      "outputs": [
        {
          "output_type": "display_data",
          "data": {
            "image/png": "[encoded data removed]",
            "text/plain": [
              "<Figure size 1224x864 with 2 Axes>"
            ]
          },
          "metadata": {
            "tags": [],
            "needs_background": "light"
          }
        }
      ]
    },
    {
      "cell_type": "markdown",
      "metadata": {
        "id": "ToLMkRjSTg44"
      },
      "source": [
        "<font color=\"blue\"> **Question: What information do we get from the correlation matrix about the features and the target?**"
      ]
    },
    {
      "cell_type": "code",
      "metadata": {
        "id": "RINSdXgqTg45",
        "outputId": "5435c87b-eb0e-4c6d-980a-d0e2698273a4"
      },
      "source": [
        "corr_matrix['corr']['Weight_classification'].sort_values(ascending=False)"
      ],
      "execution_count": null,
      "outputs": [
        {
          "output_type": "execute_result",
          "data": {
            "text/plain": [
              "Weight_classification             1.000000\n",
              "Weight                            0.921231\n",
              "Gender                            0.555773\n",
              "family_history_with_overweight    0.540307\n",
              "FCVC                              0.492536\n",
              "Age                               0.426465\n",
              "CAEC                              0.352314\n",
              "FAVC                              0.328243\n",
              "Height                            0.314281\n",
              "NCP                               0.266511\n",
              "SCC                               0.235500\n",
              "CALC                              0.225146\n",
              "FAF                               0.217926\n",
              "CH2O                              0.209958\n",
              "MTRANS                            0.178516\n",
              "TUE                               0.148218\n",
              "SMOKE                             0.111294\n",
              "Name: Weight_classification, dtype: float64"
            ]
          },
          "metadata": {
            "tags": []
          },
          "execution_count": 98
        }
      ]
    },
    {
      "cell_type": "markdown",
      "metadata": {
        "id": "VbVqS63sTg46"
      },
      "source": [
        "Focus on the top two categorical features to understand, how each feature associates with a weight classification."
      ]
    },
    {
      "cell_type": "code",
      "metadata": {
        "id": "wq5VdDHYTg46",
        "colab": {
          "base_uri": "https://localhost:8080/",
          "height": 551
        },
        "outputId": "c211d06d-e8de-4df7-f504-c44b22dda443"
      },
      "source": [
        "# Gender\n",
        "feature_counts('Gender', 'Weight_classification')"
      ],
      "execution_count": null,
      "outputs": [
        {
          "output_type": "display_data",
          "data": {
            "image/png": "[encoded data removed]",
            "text/plain": [
              "<Figure size 1080x648 with 1 Axes>"
            ]
          },
          "metadata": {
            "tags": [],
            "needs_background": "light"
          }
        }
      ]
    },
    {
      "cell_type": "markdown",
      "metadata": {
        "id": "wzwV0CTATg47"
      },
      "source": [
        "- `Obesity_Type_III` is most prevalent in the sample."
      ]
    },
    {
      "cell_type": "code",
      "metadata": {
        "id": "LyWOEl_UTg47",
        "colab": {
          "base_uri": "https://localhost:8080/",
          "height": 552
        },
        "outputId": "170be03a-7fc3-4c42-90c1-cde5645c682f"
      },
      "source": [
        "feature_counts('family_history_with_overweight', 'Weight_classification')"
      ],
      "execution_count": null,
      "outputs": [
        {
          "output_type": "display_data",
          "data": {
            "image/png": "[encoded data removed]",
            "text/plain": [
              "<Figure size 1080x648 with 1 Axes>"
            ]
          },
          "metadata": {
            "tags": [],
            "needs_background": "light"
          }
        }
      ]
    },
    {
      "cell_type": "markdown",
      "metadata": {
        "id": "dzaBzCx2Tg48"
      },
      "source": [
        "- Obesity is highly likely amongst people that have family history wth overweight.\n",
        "- `Normal_weight` is within the same range among the two possibilities."
      ]
    },
    {
      "cell_type": "markdown",
      "metadata": {
        "id": "eyQ8-I9ZTg48"
      },
      "source": [
        "<font color=\"blue\"> **Question: Given the EDA, what features should be of interest to us?**"
      ]
    },
    {
      "cell_type": "code",
      "metadata": {
        "id": "QhY1ah5dqChX"
      },
      "source": [
        "# Make a copy of the data.\n",
        "df_copy = df.copy(deep=True)"
      ],
      "execution_count": null,
      "outputs": []
    },
    {
      "cell_type": "code",
      "metadata": {
        "scrolled": true,
        "id": "ZZY7LsFPTg5A",
        "colab": {
          "base_uri": "https://localhost:8080/"
        },
        "outputId": "2b1b62b9-c7f7-43a9-d353-65c4297b84f7"
      },
      "source": [
        "# How well represented is each class?\n",
        "df_copy['Weight_classification'].value_counts(normalize=True)"
      ],
      "execution_count": null,
      "outputs": [
        {
          "output_type": "execute_result",
          "data": {
            "text/plain": [
              "Obesity_Type_I         0.166272\n",
              "Obesity_Type_III       0.153482\n",
              "Obesity_Type_II        0.140692\n",
              "Overweight_Level_I     0.137376\n",
              "Overweight_Level_II    0.137376\n",
              "Normal_Weight          0.135955\n",
              "Insufficient_Weight    0.128849\n",
              "Name: Weight_classification, dtype: float64"
            ]
          },
          "metadata": {
            "tags": []
          },
          "execution_count": 61
        }
      ]
    },
    {
      "cell_type": "markdown",
      "metadata": {
        "id": "T2zV3LRKTg49"
      },
      "source": [
        "<font color=\"blue\"> **What could be the potential good features?**"
      ]
    },
    {
      "cell_type": "markdown",
      "metadata": {
        "id": "9A82nci2oQgg"
      },
      "source": [
        "## **Modelling**"
      ]
    },
    {
      "cell_type": "markdown",
      "metadata": {
        "id": "VuXwknYOTg5B"
      },
      "source": [
        "**Train test split** <br>\n",
        "---\n",
        "**Notes:**\n",
        "The data split should ensure that the different classifications are equally distributed between the train and test set.\n",
        "\n",
        "<font color=\"blue\">**Why is this important?**"
      ]
    },
    {
      "cell_type": "code",
      "metadata": {
        "id": "2awNbdQ4Tg5B"
      },
      "source": [
        "# Encode the target variable before splitting, to ensure uniform encoding strategy.\n",
        "import category_encoders as ce\n",
        "target_mapping = [{\"col\":'Weight_classification', \n",
        "                   \"mapping\": {'Insufficient_Weight':0, \n",
        "                               'Normal_Weight':1, \n",
        "                               'Overweight_Level_I': 2, \n",
        "                                'Overweight_Level_II': 3,\n",
        "                                'Obesity_Type_I': 4,\n",
        "                                'Obesity_Type_II': 5,\n",
        "                                'Obesity_Type_III': 6}}]\n",
        "target_encoder = ce.OrdinalEncoder(mapping = target_mapping, return_df = True)\n",
        "# Assign to the same name.\n",
        "df_copy = target_encoder.fit_transform(df_copy)"
      ],
      "execution_count": null,
      "outputs": []
    },
    {
      "cell_type": "code",
      "metadata": {
        "id": "TtHeQYjhTg5C",
        "colab": {
          "base_uri": "https://localhost:8080/",
          "height": 215
        },
        "outputId": "1446d7c9-1f61-4ce0-93f1-b719e7da8424"
      },
      "source": [
        "df_copy.head()"
      ],
      "execution_count": null,
      "outputs": [
        {
          "output_type": "execute_result",
          "data": {
            "text/html": [
              "<div>\n",
              "<style scoped>\n",
              "    .dataframe tbody tr th:only-of-type {\n",
              "        vertical-align: middle;\n",
              "    }\n",
              "\n",
              "    .dataframe tbody tr th {\n",
              "        vertical-align: top;\n",
              "    }\n",
              "\n",
              "    .dataframe thead th {\n",
              "        text-align: right;\n",
              "    }\n",
              "</style>\n",
              "<table border=\"1\" class=\"dataframe\">\n",
              "  <thead>\n",
              "    <tr style=\"text-align: right;\">\n",
              "      <th></th>\n",
              "      <th>Gender</th>\n",
              "      <th>Age</th>\n",
              "      <th>Height</th>\n",
              "      <th>Weight</th>\n",
              "      <th>family_history_with_overweight</th>\n",
              "      <th>FAVC</th>\n",
              "      <th>FCVC</th>\n",
              "      <th>NCP</th>\n",
              "      <th>CAEC</th>\n",
              "      <th>SMOKE</th>\n",
              "      <th>CH2O</th>\n",
              "      <th>SCC</th>\n",
              "      <th>FAF</th>\n",
              "      <th>TUE</th>\n",
              "      <th>CALC</th>\n",
              "      <th>MTRANS</th>\n",
              "      <th>Weight_classification</th>\n",
              "    </tr>\n",
              "  </thead>\n",
              "  <tbody>\n",
              "    <tr>\n",
              "      <th>0</th>\n",
              "      <td>Female</td>\n",
              "      <td>21.0</td>\n",
              "      <td>1.62</td>\n",
              "      <td>64.0</td>\n",
              "      <td>yes</td>\n",
              "      <td>no</td>\n",
              "      <td>2.0</td>\n",
              "      <td>3.0</td>\n",
              "      <td>Sometimes</td>\n",
              "      <td>no</td>\n",
              "      <td>2.0</td>\n",
              "      <td>no</td>\n",
              "      <td>0.0</td>\n",
              "      <td>1.0</td>\n",
              "      <td>no</td>\n",
              "      <td>Public_Transportation</td>\n",
              "      <td>1</td>\n",
              "    </tr>\n",
              "    <tr>\n",
              "      <th>1</th>\n",
              "      <td>Female</td>\n",
              "      <td>21.0</td>\n",
              "      <td>1.52</td>\n",
              "      <td>56.0</td>\n",
              "      <td>yes</td>\n",
              "      <td>no</td>\n",
              "      <td>3.0</td>\n",
              "      <td>3.0</td>\n",
              "      <td>Sometimes</td>\n",
              "      <td>yes</td>\n",
              "      <td>3.0</td>\n",
              "      <td>yes</td>\n",
              "      <td>3.0</td>\n",
              "      <td>0.0</td>\n",
              "      <td>Sometimes</td>\n",
              "      <td>Public_Transportation</td>\n",
              "      <td>1</td>\n",
              "    </tr>\n",
              "    <tr>\n",
              "      <th>2</th>\n",
              "      <td>Male</td>\n",
              "      <td>23.0</td>\n",
              "      <td>1.80</td>\n",
              "      <td>77.0</td>\n",
              "      <td>yes</td>\n",
              "      <td>no</td>\n",
              "      <td>2.0</td>\n",
              "      <td>3.0</td>\n",
              "      <td>Sometimes</td>\n",
              "      <td>no</td>\n",
              "      <td>2.0</td>\n",
              "      <td>no</td>\n",
              "      <td>2.0</td>\n",
              "      <td>1.0</td>\n",
              "      <td>Frequently</td>\n",
              "      <td>Public_Transportation</td>\n",
              "      <td>1</td>\n",
              "    </tr>\n",
              "    <tr>\n",
              "      <th>3</th>\n",
              "      <td>Male</td>\n",
              "      <td>27.0</td>\n",
              "      <td>1.80</td>\n",
              "      <td>87.0</td>\n",
              "      <td>no</td>\n",
              "      <td>no</td>\n",
              "      <td>3.0</td>\n",
              "      <td>3.0</td>\n",
              "      <td>Sometimes</td>\n",
              "      <td>no</td>\n",
              "      <td>2.0</td>\n",
              "      <td>no</td>\n",
              "      <td>2.0</td>\n",
              "      <td>0.0</td>\n",
              "      <td>Frequently</td>\n",
              "      <td>Walking</td>\n",
              "      <td>2</td>\n",
              "    </tr>\n",
              "    <tr>\n",
              "      <th>4</th>\n",
              "      <td>Male</td>\n",
              "      <td>22.0</td>\n",
              "      <td>1.78</td>\n",
              "      <td>89.8</td>\n",
              "      <td>no</td>\n",
              "      <td>no</td>\n",
              "      <td>2.0</td>\n",
              "      <td>1.0</td>\n",
              "      <td>Sometimes</td>\n",
              "      <td>no</td>\n",
              "      <td>2.0</td>\n",
              "      <td>no</td>\n",
              "      <td>0.0</td>\n",
              "      <td>0.0</td>\n",
              "      <td>Sometimes</td>\n",
              "      <td>Public_Transportation</td>\n",
              "      <td>3</td>\n",
              "    </tr>\n",
              "  </tbody>\n",
              "</table>\n",
              "</div>"
            ],
            "text/plain": [
              "   Gender   Age  ...                 MTRANS  Weight_classification\n",
              "0  Female  21.0  ...  Public_Transportation                      1\n",
              "1  Female  21.0  ...  Public_Transportation                      1\n",
              "2    Male  23.0  ...  Public_Transportation                      1\n",
              "3    Male  27.0  ...                Walking                      2\n",
              "4    Male  22.0  ...  Public_Transportation                      3\n",
              "\n",
              "[5 rows x 17 columns]"
            ]
          },
          "metadata": {
            "tags": []
          },
          "execution_count": 63
        }
      ]
    },
    {
      "cell_type": "code",
      "metadata": {
        "id": "mT1VzUmMTg5C"
      },
      "source": [
        "# Train test split using the stratified approach.\n",
        "from sklearn.model_selection import StratifiedShuffleSplit\n",
        "\n",
        "split = StratifiedShuffleSplit(n_splits=1, test_size=0.1, random_state=42)\n",
        "for train_index, test_index in split.split(df_copy, df_copy[\"Weight_classification\"]):\n",
        "    train = df_copy.loc[train_index]\n",
        "    test = df_copy.loc[test_index]"
      ],
      "execution_count": null,
      "outputs": []
    },
    {
      "cell_type": "code",
      "metadata": {
        "id": "3wr6T-GOTg5D",
        "colab": {
          "base_uri": "https://localhost:8080/"
        },
        "outputId": "d555a0d5-b56c-47b4-a931-289664c2d466"
      },
      "source": [
        "# Train set distributions\n",
        "train['Weight_classification'].value_counts() / len(train)"
      ],
      "execution_count": null,
      "outputs": [
        {
          "output_type": "execute_result",
          "data": {
            "text/plain": [
              "4    0.166403\n",
              "6    0.153239\n",
              "5    0.140600\n",
              "3    0.137441\n",
              "2    0.137441\n",
              "1    0.135861\n",
              "0    0.129015\n",
              "Name: Weight_classification, dtype: float64"
            ]
          },
          "metadata": {
            "tags": []
          },
          "execution_count": 65
        }
      ]
    },
    {
      "cell_type": "code",
      "metadata": {
        "id": "JinYzVDRTg5D",
        "colab": {
          "base_uri": "https://localhost:8080/"
        },
        "outputId": "59ef03ea-f524-4ea5-903d-b341c85a783d"
      },
      "source": [
        "# Test set distributions\n",
        "test['Weight_classification'].value_counts() / len(test)"
      ],
      "execution_count": null,
      "outputs": [
        {
          "output_type": "execute_result",
          "data": {
            "text/plain": [
              "4    0.165094\n",
              "6    0.155660\n",
              "5    0.141509\n",
              "3    0.136792\n",
              "2    0.136792\n",
              "1    0.136792\n",
              "0    0.127358\n",
              "Name: Weight_classification, dtype: float64"
            ]
          },
          "metadata": {
            "tags": []
          },
          "execution_count": 66
        }
      ]
    },
    {
      "cell_type": "code",
      "metadata": {
        "id": "I7mSTGiOTg5E",
        "colab": {
          "base_uri": "https://localhost:8080/"
        },
        "outputId": "281ec317-1f44-49e3-ae90-4370bf42fa86"
      },
      "source": [
        "# Number of instances.\n",
        "train.shape, test.shape"
      ],
      "execution_count": null,
      "outputs": [
        {
          "output_type": "execute_result",
          "data": {
            "text/plain": [
              "((1899, 17), (212, 17))"
            ]
          },
          "metadata": {
            "tags": []
          },
          "execution_count": 67
        }
      ]
    },
    {
      "cell_type": "markdown",
      "metadata": {
        "id": "VCCc4OsNTg5E"
      },
      "source": [
        "## **Split the features and the target**"
      ]
    },
    {
      "cell_type": "code",
      "metadata": {
        "id": "yYY2C20VTg5F"
      },
      "source": [
        "# Drop the least five uncorrelated features, Weight_classification is not removed per se\n",
        "# but rather seperated from the dataset as it is the target variable.\n",
        "dropped = ['FAF', 'CH2O', 'MTRANS', 'TUE', 'SMOKE', 'Weight_classification']"
      ],
      "execution_count": null,
      "outputs": []
    },
    {
      "cell_type": "code",
      "metadata": {
        "id": "GpqAnx9zTg5F"
      },
      "source": [
        "# Create the features dataframe.\n",
        "X_train_cat = train.drop(dropped, axis=1)\n",
        "y_train = train['Weight_classification'].copy(deep=True)\n",
        "\n",
        "X_test_cat = test.drop(dropped, axis=1)\n",
        "y_test = test['Weight_classification'].copy(deep=True)"
      ],
      "execution_count": null,
      "outputs": []
    },
    {
      "cell_type": "code",
      "metadata": {
        "id": "QL6h2kuYTg5F",
        "colab": {
          "base_uri": "https://localhost:8080/"
        },
        "outputId": "f328d3aa-2c81-456c-e4ed-7fa9a484ea5f"
      },
      "source": [
        "X_train_cat.shape, X_test_cat.shape"
      ],
      "execution_count": null,
      "outputs": [
        {
          "output_type": "execute_result",
          "data": {
            "text/plain": [
              "((1899, 11), (212, 11))"
            ]
          },
          "metadata": {
            "tags": []
          },
          "execution_count": 71
        }
      ]
    },
    {
      "cell_type": "code",
      "metadata": {
        "id": "UyztDNhfTg5I",
        "colab": {
          "base_uri": "https://localhost:8080/",
          "height": 195
        },
        "outputId": "7f77fa4d-fc2c-4360-d250-32cafce25427"
      },
      "source": [
        "X_train_cat.head()"
      ],
      "execution_count": null,
      "outputs": [
        {
          "output_type": "execute_result",
          "data": {
            "text/html": [
              "<div>\n",
              "<style scoped>\n",
              "    .dataframe tbody tr th:only-of-type {\n",
              "        vertical-align: middle;\n",
              "    }\n",
              "\n",
              "    .dataframe tbody tr th {\n",
              "        vertical-align: top;\n",
              "    }\n",
              "\n",
              "    .dataframe thead th {\n",
              "        text-align: right;\n",
              "    }\n",
              "</style>\n",
              "<table border=\"1\" class=\"dataframe\">\n",
              "  <thead>\n",
              "    <tr style=\"text-align: right;\">\n",
              "      <th></th>\n",
              "      <th>Gender</th>\n",
              "      <th>Age</th>\n",
              "      <th>Height</th>\n",
              "      <th>Weight</th>\n",
              "      <th>family_history_with_overweight</th>\n",
              "      <th>FAVC</th>\n",
              "      <th>FCVC</th>\n",
              "      <th>NCP</th>\n",
              "      <th>CAEC</th>\n",
              "      <th>SCC</th>\n",
              "      <th>CALC</th>\n",
              "    </tr>\n",
              "  </thead>\n",
              "  <tbody>\n",
              "    <tr>\n",
              "      <th>677</th>\n",
              "      <td>Female</td>\n",
              "      <td>19.665881</td>\n",
              "      <td>1.676346</td>\n",
              "      <td>49.105025</td>\n",
              "      <td>no</td>\n",
              "      <td>no</td>\n",
              "      <td>2.720701</td>\n",
              "      <td>3.000000</td>\n",
              "      <td>Sometimes</td>\n",
              "      <td>no</td>\n",
              "      <td>Sometimes</td>\n",
              "    </tr>\n",
              "    <tr>\n",
              "      <th>643</th>\n",
              "      <td>Male</td>\n",
              "      <td>19.962470</td>\n",
              "      <td>1.756338</td>\n",
              "      <td>54.982340</td>\n",
              "      <td>yes</td>\n",
              "      <td>yes</td>\n",
              "      <td>2.277436</td>\n",
              "      <td>3.502604</td>\n",
              "      <td>Sometimes</td>\n",
              "      <td>no</td>\n",
              "      <td>no</td>\n",
              "    </tr>\n",
              "    <tr>\n",
              "      <th>908</th>\n",
              "      <td>Male</td>\n",
              "      <td>23.562135</td>\n",
              "      <td>1.717432</td>\n",
              "      <td>75.371244</td>\n",
              "      <td>yes</td>\n",
              "      <td>yes</td>\n",
              "      <td>2.000000</td>\n",
              "      <td>3.000000</td>\n",
              "      <td>Sometimes</td>\n",
              "      <td>no</td>\n",
              "      <td>Sometimes</td>\n",
              "    </tr>\n",
              "    <tr>\n",
              "      <th>1060</th>\n",
              "      <td>Female</td>\n",
              "      <td>34.281681</td>\n",
              "      <td>1.673333</td>\n",
              "      <td>77.205685</td>\n",
              "      <td>yes</td>\n",
              "      <td>yes</td>\n",
              "      <td>2.689929</td>\n",
              "      <td>1.835543</td>\n",
              "      <td>Sometimes</td>\n",
              "      <td>no</td>\n",
              "      <td>no</td>\n",
              "    </tr>\n",
              "    <tr>\n",
              "      <th>1444</th>\n",
              "      <td>Female</td>\n",
              "      <td>23.652435</td>\n",
              "      <td>1.562724</td>\n",
              "      <td>80.535698</td>\n",
              "      <td>yes</td>\n",
              "      <td>yes</td>\n",
              "      <td>2.000000</td>\n",
              "      <td>1.000000</td>\n",
              "      <td>Sometimes</td>\n",
              "      <td>no</td>\n",
              "      <td>no</td>\n",
              "    </tr>\n",
              "  </tbody>\n",
              "</table>\n",
              "</div>"
            ],
            "text/plain": [
              "      Gender        Age    Height  ...       CAEC SCC       CALC\n",
              "677   Female  19.665881  1.676346  ...  Sometimes  no  Sometimes\n",
              "643     Male  19.962470  1.756338  ...  Sometimes  no         no\n",
              "908     Male  23.562135  1.717432  ...  Sometimes  no  Sometimes\n",
              "1060  Female  34.281681  1.673333  ...  Sometimes  no         no\n",
              "1444  Female  23.652435  1.562724  ...  Sometimes  no         no\n",
              "\n",
              "[5 rows x 11 columns]"
            ]
          },
          "metadata": {
            "tags": []
          },
          "execution_count": 72
        }
      ]
    },
    {
      "cell_type": "code",
      "metadata": {
        "id": "0tIidf_7Tg5J"
      },
      "source": [
        "import category_encoders as ce\n",
        "ordinal_cols_mapping = [{\"col\":'CAEC', \"mapping\": {'no':0, 'Sometimes':1, 'Frequently': 2, 'Always': 3}},\n",
        "                        {\"col\":'CALC', \"mapping\": {'no':0, 'Sometimes':1, 'Frequently': 2, 'Always': 3}}]"
      ],
      "execution_count": null,
      "outputs": []
    },
    {
      "cell_type": "code",
      "metadata": {
        "id": "FX8s86TzTg5J"
      },
      "source": [
        "ordinal_encoder = ce.OrdinalEncoder(mapping = ordinal_cols_mapping, return_df = True)  \n",
        "ordinal_train_enc = ordinal_encoder.fit_transform(X_train_cat)"
      ],
      "execution_count": null,
      "outputs": []
    },
    {
      "cell_type": "code",
      "metadata": {
        "id": "ZcA7j9lxTg5K",
        "colab": {
          "base_uri": "https://localhost:8080/"
        },
        "outputId": "3befc03c-efd2-43e0-f4d4-a951c0a750d6"
      },
      "source": [
        "ordinal_train_enc.shape"
      ],
      "execution_count": null,
      "outputs": [
        {
          "output_type": "execute_result",
          "data": {
            "text/plain": [
              "(1899, 11)"
            ]
          },
          "metadata": {
            "tags": []
          },
          "execution_count": 75
        }
      ]
    },
    {
      "cell_type": "code",
      "metadata": {
        "id": "cRYKntHFTg5L"
      },
      "source": [
        "# Onehot encode dichotomus columns.\n",
        "one_hot = ce.OneHotEncoder()\n",
        "one_hot_train = one_hot.fit_transform(ordinal_train_enc)"
      ],
      "execution_count": null,
      "outputs": []
    },
    {
      "cell_type": "code",
      "metadata": {
        "id": "k_Yt6HHFTg5L",
        "colab": {
          "base_uri": "https://localhost:8080/"
        },
        "outputId": "76cb0bed-ebb5-4b71-a899-06f979fa4190"
      },
      "source": [
        "one_hot_train.shape"
      ],
      "execution_count": null,
      "outputs": [
        {
          "output_type": "execute_result",
          "data": {
            "text/plain": [
              "(1899, 15)"
            ]
          },
          "metadata": {
            "tags": []
          },
          "execution_count": 77
        }
      ]
    },
    {
      "cell_type": "code",
      "metadata": {
        "id": "XDgoH3ToTg5L"
      },
      "source": [
        "from sklearn.preprocessing import StandardScaler\n",
        "ss = StandardScaler()\n",
        "scaled = ss.fit_transform(one_hot_train)"
      ],
      "execution_count": null,
      "outputs": []
    },
    {
      "cell_type": "code",
      "metadata": {
        "scrolled": true,
        "id": "8yzGNFuTTg5M",
        "colab": {
          "base_uri": "https://localhost:8080/",
          "height": 215
        },
        "outputId": "add81bf8-5b7e-49f8-cf71-7875ee3e62ce"
      },
      "source": [
        "X_train = pd.DataFrame(scaled, columns=one_hot_train.columns)\n",
        "X_train.head()"
      ],
      "execution_count": null,
      "outputs": [
        {
          "output_type": "execute_result",
          "data": {
            "text/html": [
              "<div>\n",
              "<style scoped>\n",
              "    .dataframe tbody tr th:only-of-type {\n",
              "        vertical-align: middle;\n",
              "    }\n",
              "\n",
              "    .dataframe tbody tr th {\n",
              "        vertical-align: top;\n",
              "    }\n",
              "\n",
              "    .dataframe thead th {\n",
              "        text-align: right;\n",
              "    }\n",
              "</style>\n",
              "<table border=\"1\" class=\"dataframe\">\n",
              "  <thead>\n",
              "    <tr style=\"text-align: right;\">\n",
              "      <th></th>\n",
              "      <th>Gender_1</th>\n",
              "      <th>Gender_2</th>\n",
              "      <th>Age</th>\n",
              "      <th>Height</th>\n",
              "      <th>Weight</th>\n",
              "      <th>family_history_with_overweight_1</th>\n",
              "      <th>family_history_with_overweight_2</th>\n",
              "      <th>FAVC_1</th>\n",
              "      <th>FAVC_2</th>\n",
              "      <th>FCVC</th>\n",
              "      <th>NCP</th>\n",
              "      <th>CAEC</th>\n",
              "      <th>SCC_1</th>\n",
              "      <th>SCC_2</th>\n",
              "      <th>CALC</th>\n",
              "    </tr>\n",
              "  </thead>\n",
              "  <tbody>\n",
              "    <tr>\n",
              "      <th>0</th>\n",
              "      <td>1.006869</td>\n",
              "      <td>-1.006869</td>\n",
              "      <td>-0.733570</td>\n",
              "      <td>-0.256714</td>\n",
              "      <td>-1.429994</td>\n",
              "      <td>2.129893</td>\n",
              "      <td>-2.129893</td>\n",
              "      <td>2.713971</td>\n",
              "      <td>-2.713971</td>\n",
              "      <td>0.565333</td>\n",
              "      <td>0.410488</td>\n",
              "      <td>-0.30261</td>\n",
              "      <td>0.220436</td>\n",
              "      <td>-0.220436</td>\n",
              "      <td>0.517476</td>\n",
              "    </tr>\n",
              "    <tr>\n",
              "      <th>1</th>\n",
              "      <td>-0.993178</td>\n",
              "      <td>0.993178</td>\n",
              "      <td>-0.687024</td>\n",
              "      <td>0.602489</td>\n",
              "      <td>-1.204767</td>\n",
              "      <td>-0.469507</td>\n",
              "      <td>0.469507</td>\n",
              "      <td>-0.368464</td>\n",
              "      <td>0.368464</td>\n",
              "      <td>-0.265000</td>\n",
              "      <td>1.054484</td>\n",
              "      <td>-0.30261</td>\n",
              "      <td>0.220436</td>\n",
              "      <td>-0.220436</td>\n",
              "      <td>-1.405590</td>\n",
              "    </tr>\n",
              "    <tr>\n",
              "      <th>2</th>\n",
              "      <td>-0.993178</td>\n",
              "      <td>0.993178</td>\n",
              "      <td>-0.122103</td>\n",
              "      <td>0.184596</td>\n",
              "      <td>-0.423438</td>\n",
              "      <td>-0.469507</td>\n",
              "      <td>0.469507</td>\n",
              "      <td>-0.368464</td>\n",
              "      <td>0.368464</td>\n",
              "      <td>-0.784699</td>\n",
              "      <td>0.410488</td>\n",
              "      <td>-0.30261</td>\n",
              "      <td>0.220436</td>\n",
              "      <td>-0.220436</td>\n",
              "      <td>0.517476</td>\n",
              "    </tr>\n",
              "    <tr>\n",
              "      <th>3</th>\n",
              "      <td>1.006869</td>\n",
              "      <td>-1.006869</td>\n",
              "      <td>1.560193</td>\n",
              "      <td>-0.289077</td>\n",
              "      <td>-0.353139</td>\n",
              "      <td>-0.469507</td>\n",
              "      <td>0.469507</td>\n",
              "      <td>-0.368464</td>\n",
              "      <td>0.368464</td>\n",
              "      <td>0.507691</td>\n",
              "      <td>-1.081552</td>\n",
              "      <td>-0.30261</td>\n",
              "      <td>0.220436</td>\n",
              "      <td>-0.220436</td>\n",
              "      <td>-1.405590</td>\n",
              "    </tr>\n",
              "    <tr>\n",
              "      <th>4</th>\n",
              "      <td>1.006869</td>\n",
              "      <td>-1.006869</td>\n",
              "      <td>-0.107931</td>\n",
              "      <td>-1.477140</td>\n",
              "      <td>-0.225529</td>\n",
              "      <td>-0.469507</td>\n",
              "      <td>0.469507</td>\n",
              "      <td>-0.368464</td>\n",
              "      <td>0.368464</td>\n",
              "      <td>-0.784699</td>\n",
              "      <td>-2.152148</td>\n",
              "      <td>-0.30261</td>\n",
              "      <td>0.220436</td>\n",
              "      <td>-0.220436</td>\n",
              "      <td>-1.405590</td>\n",
              "    </tr>\n",
              "  </tbody>\n",
              "</table>\n",
              "</div>"
            ],
            "text/plain": [
              "   Gender_1  Gender_2       Age  ...     SCC_1     SCC_2      CALC\n",
              "0  1.006869 -1.006869 -0.733570  ...  0.220436 -0.220436  0.517476\n",
              "1 -0.993178  0.993178 -0.687024  ...  0.220436 -0.220436 -1.405590\n",
              "2 -0.993178  0.993178 -0.122103  ...  0.220436 -0.220436  0.517476\n",
              "3  1.006869 -1.006869  1.560193  ...  0.220436 -0.220436 -1.405590\n",
              "4  1.006869 -1.006869 -0.107931  ...  0.220436 -0.220436 -1.405590\n",
              "\n",
              "[5 rows x 15 columns]"
            ]
          },
          "metadata": {
            "tags": []
          },
          "execution_count": 79
        }
      ]
    },
    {
      "cell_type": "markdown",
      "metadata": {
        "id": "TGUiRk5iTg5M"
      },
      "source": [
        "## **Using a Random Forest Model to predict weight classification.**"
      ]
    },
    {
      "cell_type": "code",
      "metadata": {
        "id": "v33YnJMCTg5N",
        "colab": {
          "base_uri": "https://localhost:8080/"
        },
        "outputId": "6db85d6b-74cf-4824-f9b2-224137890e63"
      },
      "source": [
        "# DecisionTreeClassifier\n",
        "from sklearn.tree import DecisionTreeClassifier\n",
        "from sklearn.model_selection import StratifiedKFold\n",
        "\n",
        "max_depth = range(1,30)\n",
        "max_features = [21,22,23,24,25,26,28,29,30,'auto']\n",
        "criterion=[\"entropy\", \"gini\"]\n",
        "\n",
        "param = {'max_depth':max_depth, \n",
        "         'max_features':max_features, \n",
        "         'criterion': criterion}\n",
        "grid_dtc = GridSearchCV(\n",
        "    DecisionTreeClassifier(),\n",
        "    param_grid = param,\n",
        "    verbose=1,\n",
        "    cv=StratifiedKFold(n_splits=20, random_state=15, shuffle=True),\n",
        "    n_jobs = -1\n",
        "  )\n",
        "grid_dtc.fit(X_train, y_train)"
      ],
      "execution_count": null,
      "outputs": [
        {
          "output_type": "stream",
          "text": [
            "Fitting 20 folds for each of 580 candidates, totalling 11600 fits\n"
          ],
          "name": "stdout"
        },
        {
          "output_type": "stream",
          "text": [
            "[Parallel(n_jobs=-1)]: Using backend LokyBackend with 2 concurrent workers.\n",
            "[Parallel(n_jobs=-1)]: Done 1660 tasks      | elapsed:    4.3s\n",
            "[Parallel(n_jobs=-1)]: Done 11260 tasks      | elapsed:   29.1s\n",
            "[Parallel(n_jobs=-1)]: Done 11600 out of 11600 | elapsed:   29.9s finished\n"
          ],
          "name": "stderr"
        },
        {
          "output_type": "execute_result",
          "data": {
            "text/plain": [
              "GridSearchCV(cv=StratifiedKFold(n_splits=20, random_state=15, shuffle=True),\n",
              "             error_score=nan,\n",
              "             estimator=DecisionTreeClassifier(ccp_alpha=0.0, class_weight=None,\n",
              "                                              criterion='gini', max_depth=None,\n",
              "                                              max_features=None,\n",
              "                                              max_leaf_nodes=None,\n",
              "                                              min_impurity_decrease=0.0,\n",
              "                                              min_impurity_split=None,\n",
              "                                              min_samples_leaf=1,\n",
              "                                              min_samples_split=2,\n",
              "                                              min_weight_fraction_leaf=0.0,\n",
              "                                              presort='deprecated',\n",
              "                                              random_state=None,\n",
              "                                              splitter='best'),\n",
              "             iid='deprecated', n_jobs=-1,\n",
              "             param_grid={'criterion': ['entropy', 'gini'],\n",
              "                         'max_depth': range(1, 30),\n",
              "                         'max_features': [21, 22, 23, 24, 25, 26, 28, 29, 30,\n",
              "                                          'auto']},\n",
              "             pre_dispatch='2*n_jobs', refit=True, return_train_score=False,\n",
              "             scoring=None, verbose=1)"
            ]
          },
          "metadata": {
            "tags": []
          },
          "execution_count": 84
        }
      ]
    },
    {
      "cell_type": "code",
      "metadata": {
        "scrolled": true,
        "id": "kwlEQ-I-Tg5O",
        "colab": {
          "base_uri": "https://localhost:8080/"
        },
        "outputId": "9635b54f-a49d-493f-c3b3-3948dfe697d0"
      },
      "source": [
        "print(grid_dtc.best_score_)\n",
        "print(grid_dtc.best_params_)\n",
        "print(grid_dtc.best_estimator_)"
      ],
      "execution_count": null,
      "outputs": [
        {
          "output_type": "stream",
          "text": [
            "0.8667693169092944\n",
            "{'criterion': 'entropy', 'max_depth': 17, 'max_features': 'auto'}\n",
            "DecisionTreeClassifier(ccp_alpha=0.0, class_weight=None, criterion='entropy',\n",
            "                       max_depth=17, max_features='auto', max_leaf_nodes=None,\n",
            "                       min_impurity_decrease=0.0, min_impurity_split=None,\n",
            "                       min_samples_leaf=1, min_samples_split=2,\n",
            "                       min_weight_fraction_leaf=0.0, presort='deprecated',\n",
            "                       random_state=None, splitter='best')\n"
          ],
          "name": "stdout"
        }
      ]
    },
    {
      "cell_type": "code",
      "metadata": {
        "scrolled": true,
        "id": "6eQas-GbTg5O",
        "colab": {
          "base_uri": "https://localhost:8080/",
          "height": 195
        },
        "outputId": "dd3743d5-04f9-4e9a-e443-df4f398e1761"
      },
      "source": [
        "feature_importances = pd.DataFrame(grid_dtc.best_estimator_.feature_importances_,\n",
        "                                   index = X_train.columns,\n",
        "                                    columns=['importance'])\n",
        "feature_importances.sort_values(by='importance', ascending=False).head(5)"
      ],
      "execution_count": null,
      "outputs": [
        {
          "output_type": "execute_result",
          "data": {
            "text/html": [
              "<div>\n",
              "<style scoped>\n",
              "    .dataframe tbody tr th:only-of-type {\n",
              "        vertical-align: middle;\n",
              "    }\n",
              "\n",
              "    .dataframe tbody tr th {\n",
              "        vertical-align: top;\n",
              "    }\n",
              "\n",
              "    .dataframe thead th {\n",
              "        text-align: right;\n",
              "    }\n",
              "</style>\n",
              "<table border=\"1\" class=\"dataframe\">\n",
              "  <thead>\n",
              "    <tr style=\"text-align: right;\">\n",
              "      <th></th>\n",
              "      <th>importance</th>\n",
              "    </tr>\n",
              "  </thead>\n",
              "  <tbody>\n",
              "    <tr>\n",
              "      <th>Weight</th>\n",
              "      <td>0.279358</td>\n",
              "    </tr>\n",
              "    <tr>\n",
              "      <th>Age</th>\n",
              "      <td>0.149638</td>\n",
              "    </tr>\n",
              "    <tr>\n",
              "      <th>Height</th>\n",
              "      <td>0.101858</td>\n",
              "    </tr>\n",
              "    <tr>\n",
              "      <th>Gender_1</th>\n",
              "      <td>0.098774</td>\n",
              "    </tr>\n",
              "    <tr>\n",
              "      <th>family_history_with_overweight_1</th>\n",
              "      <td>0.079809</td>\n",
              "    </tr>\n",
              "  </tbody>\n",
              "</table>\n",
              "</div>"
            ],
            "text/plain": [
              "                                  importance\n",
              "Weight                              0.279358\n",
              "Age                                 0.149638\n",
              "Height                              0.101858\n",
              "Gender_1                            0.098774\n",
              "family_history_with_overweight_1    0.079809"
            ]
          },
          "metadata": {
            "tags": []
          },
          "execution_count": 86
        }
      ]
    },
    {
      "cell_type": "code",
      "metadata": {
        "id": "fOIJEL9QTg5P",
        "colab": {
          "base_uri": "https://localhost:8080/"
        },
        "outputId": "f73891b6-aa39-4d89-b87f-22da5f5bba3c"
      },
      "source": [
        "# RandomForestClassifier\n",
        "from sklearn.ensemble import RandomForestClassifier\n",
        "\n",
        "n_estimators = [140,145,150,155,160];\n",
        "max_depth = range(1,10);\n",
        "criterions = ['gini', 'entropy'];\n",
        "cv = StratifiedShuffleSplit(n_splits=10, test_size=.30, random_state=15)\n",
        "\n",
        "parameters = {'n_estimators':n_estimators,\n",
        "              'max_depth':max_depth,\n",
        "              'criterion': criterions\n",
        "              \n",
        "        }\n",
        "grid_rfc = GridSearchCV(\n",
        "    estimator=RandomForestClassifier(max_features='auto'),\n",
        "    param_grid=parameters,\n",
        "    cv=cv,\n",
        "    verbose=1,\n",
        "    n_jobs=-1\n",
        "  )\n",
        "grid_rfc.fit(X_train,y_train) "
      ],
      "execution_count": null,
      "outputs": [
        {
          "output_type": "stream",
          "text": [
            "Fitting 10 folds for each of 90 candidates, totalling 900 fits\n"
          ],
          "name": "stdout"
        },
        {
          "output_type": "stream",
          "text": [
            "[Parallel(n_jobs=-1)]: Using backend LokyBackend with 2 concurrent workers.\n",
            "[Parallel(n_jobs=-1)]: Done  46 tasks      | elapsed:   11.2s\n",
            "[Parallel(n_jobs=-1)]: Done 196 tasks      | elapsed:   47.3s\n",
            "[Parallel(n_jobs=-1)]: Done 446 tasks      | elapsed:  2.0min\n",
            "[Parallel(n_jobs=-1)]: Done 796 tasks      | elapsed:  3.9min\n",
            "[Parallel(n_jobs=-1)]: Done 900 out of 900 | elapsed:  4.6min finished\n"
          ],
          "name": "stderr"
        },
        {
          "output_type": "execute_result",
          "data": {
            "text/plain": [
              "GridSearchCV(cv=StratifiedShuffleSplit(n_splits=10, random_state=15, test_size=0.3,\n",
              "            train_size=None),\n",
              "             error_score=nan,\n",
              "             estimator=RandomForestClassifier(bootstrap=True, ccp_alpha=0.0,\n",
              "                                              class_weight=None,\n",
              "                                              criterion='gini', max_depth=None,\n",
              "                                              max_features='auto',\n",
              "                                              max_leaf_nodes=None,\n",
              "                                              max_samples=None,\n",
              "                                              min_impurity_decrease=0.0,\n",
              "                                              min_impurity_split=None,\n",
              "                                              min_samples_leaf=1,\n",
              "                                              min_samples_split=2,\n",
              "                                              min_weight_fraction_leaf=0.0,\n",
              "                                              n_estimators=100, n_jobs=None,\n",
              "                                              oob_score=False,\n",
              "                                              random_state=None, verbose=0,\n",
              "                                              warm_start=False),\n",
              "             iid='deprecated', n_jobs=-1,\n",
              "             param_grid={'criterion': ['gini', 'entropy'],\n",
              "                         'max_depth': range(1, 10),\n",
              "                         'n_estimators': [140, 145, 150, 155, 160]},\n",
              "             pre_dispatch='2*n_jobs', refit=True, return_train_score=False,\n",
              "             scoring=None, verbose=1)"
            ]
          },
          "metadata": {
            "tags": []
          },
          "execution_count": 88
        }
      ]
    },
    {
      "cell_type": "code",
      "metadata": {
        "id": "R-mqO4-xTg5P",
        "colab": {
          "base_uri": "https://localhost:8080/"
        },
        "outputId": "f6365e21-9568-43f1-8a5b-70a46fa2ac07"
      },
      "source": [
        "print(grid_rfc.best_score_)\n",
        "print(grid_rfc.best_params_)\n",
        "print(grid_rfc.best_estimator_)"
      ],
      "execution_count": null,
      "outputs": [
        {
          "output_type": "stream",
          "text": [
            "0.926140350877193\n",
            "{'criterion': 'entropy', 'max_depth': 9, 'n_estimators': 150}\n",
            "RandomForestClassifier(bootstrap=True, ccp_alpha=0.0, class_weight=None,\n",
            "                       criterion='entropy', max_depth=9, max_features='auto',\n",
            "                       max_leaf_nodes=None, max_samples=None,\n",
            "                       min_impurity_decrease=0.0, min_impurity_split=None,\n",
            "                       min_samples_leaf=1, min_samples_split=2,\n",
            "                       min_weight_fraction_leaf=0.0, n_estimators=150,\n",
            "                       n_jobs=None, oob_score=False, random_state=None,\n",
            "                       verbose=0, warm_start=False)\n"
          ],
          "name": "stdout"
        }
      ]
    },
    {
      "cell_type": "code",
      "metadata": {
        "scrolled": false,
        "id": "bxz-cmgJTg5P",
        "colab": {
          "base_uri": "https://localhost:8080/",
          "height": 195
        },
        "outputId": "68907034-a9b9-46d9-8abd-b1e341784ef9"
      },
      "source": [
        "best_rfc = grid_rfc.best_estimator_\n",
        "feature_importances = pd.DataFrame(best_rfc.feature_importances_,\n",
        "                                   index = X_train.columns,\n",
        "                                    columns=['importance'])\n",
        "feature_importances.sort_values(by='importance', ascending=False).head(5)"
      ],
      "execution_count": null,
      "outputs": [
        {
          "output_type": "execute_result",
          "data": {
            "text/html": [
              "<div>\n",
              "<style scoped>\n",
              "    .dataframe tbody tr th:only-of-type {\n",
              "        vertical-align: middle;\n",
              "    }\n",
              "\n",
              "    .dataframe tbody tr th {\n",
              "        vertical-align: top;\n",
              "    }\n",
              "\n",
              "    .dataframe thead th {\n",
              "        text-align: right;\n",
              "    }\n",
              "</style>\n",
              "<table border=\"1\" class=\"dataframe\">\n",
              "  <thead>\n",
              "    <tr style=\"text-align: right;\">\n",
              "      <th></th>\n",
              "      <th>importance</th>\n",
              "    </tr>\n",
              "  </thead>\n",
              "  <tbody>\n",
              "    <tr>\n",
              "      <th>Weight</th>\n",
              "      <td>0.404003</td>\n",
              "    </tr>\n",
              "    <tr>\n",
              "      <th>FCVC</th>\n",
              "      <td>0.094487</td>\n",
              "    </tr>\n",
              "    <tr>\n",
              "      <th>Age</th>\n",
              "      <td>0.091809</td>\n",
              "    </tr>\n",
              "    <tr>\n",
              "      <th>Height</th>\n",
              "      <td>0.083841</td>\n",
              "    </tr>\n",
              "    <tr>\n",
              "      <th>Gender_1</th>\n",
              "      <td>0.055425</td>\n",
              "    </tr>\n",
              "  </tbody>\n",
              "</table>\n",
              "</div>"
            ],
            "text/plain": [
              "          importance\n",
              "Weight      0.404003\n",
              "FCVC        0.094487\n",
              "Age         0.091809\n",
              "Height      0.083841\n",
              "Gender_1    0.055425"
            ]
          },
          "metadata": {
            "tags": []
          },
          "execution_count": 90
        }
      ]
    },
    {
      "cell_type": "markdown",
      "metadata": {
        "id": "yv-6XkuTTg5Q"
      },
      "source": [
        "## **Evaluation**\n",
        ">- **Precision** measures how good the model is when the prediction is positive.\n",
        "- **Recall** measures how good the model is at correctly predicting positive classes.\n",
        "- **F1 score** is the weighted average of precision and recall. The closer the score is to one(1), the better the model."
      ]
    },
    {
      "cell_type": "code",
      "metadata": {
        "scrolled": true,
        "id": "mLvz9mOKTg5S",
        "colab": {
          "base_uri": "https://localhost:8080/"
        },
        "outputId": "76b5ee17-96f2-4fde-be73-e1317b6bb776"
      },
      "source": [
        "fscore, precision, recall = scores(grid_dtc.best_estimator_, y_train);"
      ],
      "execution_count": null,
      "outputs": [
        {
          "output_type": "stream",
          "text": [
            "precision: [0.90534979 0.68560606 0.78087649 0.77372263 0.88745981 0.96629213\n",
            " 1.        ]\n",
            "recall: [0.89795918 0.70155039 0.75095785 0.81226054 0.87341772 0.96629213\n",
            " 0.99312715]\n",
            "f1_score: [0.90163934 0.69348659 0.765625   0.79252336 0.88038278 0.96629213\n",
            " 0.99655172]\n"
          ],
          "name": "stdout"
        }
      ]
    },
    {
      "cell_type": "code",
      "metadata": {
        "id": "kRS3RpLGTg5S",
        "colab": {
          "base_uri": "https://localhost:8080/",
          "height": 265
        },
        "outputId": "13434c03-5c8f-4dd1-8823-3038b79ad6ec"
      },
      "source": [
        "plot_scores(precision, recall, fscore)"
      ],
      "execution_count": null,
      "outputs": [
        {
          "output_type": "display_data",
          "data": {
            "image/png": "[encoded data removed]",
            "text/plain": [
              "<Figure size 432x288 with 1 Axes>"
            ]
          },
          "metadata": {
            "tags": [],
            "needs_background": "light"
          }
        }
      ]
    },
    {
      "cell_type": "code",
      "metadata": {
        "id": "Jno_1iO2Tg5T",
        "colab": {
          "base_uri": "https://localhost:8080/"
        },
        "outputId": "62b6b664-7356-45ca-9c65-355fb57f1cce"
      },
      "source": [
        "fscore, precision, recall = scores(grid_rfc.best_estimator_, y_train)"
      ],
      "execution_count": null,
      "outputs": [
        {
          "output_type": "stream",
          "text": [
            "precision: [0.9625     0.81533101 0.90336134 0.87924528 0.96474359 0.9887218\n",
            " 1.        ]\n",
            "recall: [0.94285714 0.90697674 0.82375479 0.89272031 0.95253165 0.98501873\n",
            " 1.        ]\n",
            "f1_score: [0.95257732 0.8587156  0.86172345 0.88593156 0.95859873 0.98686679\n",
            " 1.        ]\n"
          ],
          "name": "stdout"
        }
      ]
    },
    {
      "cell_type": "code",
      "metadata": {
        "scrolled": true,
        "id": "answ_WctTg5T",
        "colab": {
          "base_uri": "https://localhost:8080/",
          "height": 265
        },
        "outputId": "5d472c58-dab6-43d4-a33d-ab2f8aa0c561"
      },
      "source": [
        "plot_scores(precision, recall, fscore)"
      ],
      "execution_count": null,
      "outputs": [
        {
          "output_type": "display_data",
          "data": {
            "image/png": "[encoded data removed]",
            "text/plain": [
              "<Figure size 432x288 with 1 Axes>"
            ]
          },
          "metadata": {
            "tags": [],
            "needs_background": "light"
          }
        }
      ]
    },
    {
      "cell_type": "markdown",
      "metadata": {
        "id": "4WSkua7S2ftv"
      },
      "source": [
        "## **Evaluation on Test set**"
      ]
    },
    {
      "cell_type": "code",
      "metadata": {
        "id": "gNKoSzxITg5T"
      },
      "source": [
        "# Prepare the test set                                \n",
        "ordinal_encoder = ce.OrdinalEncoder(mapping=ordinal_cols_mapping, return_df=True)  \n",
        "ordinal_test_enc = ordinal_encoder.fit_transform(X_test_cat)\n",
        "one_hot = ce.OneHotEncoder()\n",
        "one_hot_test = one_hot.fit_transform(ordinal_test_enc)\n",
        "test_ss = StandardScaler()\n",
        "test_scaled = test_ss.fit_transform(one_hot_test)\n",
        "X_test = pd.DataFrame(test_scaled, columns=one_hot_test.columns)"
      ],
      "execution_count": null,
      "outputs": []
    },
    {
      "cell_type": "code",
      "metadata": {
        "id": "ITCbWiW_Tg5U",
        "colab": {
          "base_uri": "https://localhost:8080/"
        },
        "outputId": "72404d63-58be-444e-e093-c406cd98ba12"
      },
      "source": [
        "# Final model, select the model that performed best on train set.\n",
        "model = grid_rfc.best_estimator_\n",
        "# Fit the model to the data.\n",
        "model.fit(X_train, y_train)"
      ],
      "execution_count": null,
      "outputs": [
        {
          "output_type": "execute_result",
          "data": {
            "text/plain": [
              "RandomForestClassifier(bootstrap=True, ccp_alpha=0.0, class_weight=None,\n",
              "                       criterion='entropy', max_depth=9, max_features='auto',\n",
              "                       max_leaf_nodes=None, max_samples=None,\n",
              "                       min_impurity_decrease=0.0, min_impurity_split=None,\n",
              "                       min_samples_leaf=1, min_samples_split=2,\n",
              "                       min_weight_fraction_leaf=0.0, n_estimators=150,\n",
              "                       n_jobs=None, oob_score=False, random_state=None,\n",
              "                       verbose=0, warm_start=False)"
            ]
          },
          "metadata": {
            "tags": []
          },
          "execution_count": 97
        }
      ]
    },
    {
      "cell_type": "code",
      "metadata": {
        "scrolled": true,
        "id": "BXbDUnhcTg5V",
        "colab": {
          "base_uri": "https://localhost:8080/",
          "height": 279
        },
        "outputId": "c2498cae-d65f-4af4-bc5d-91f145972f26"
      },
      "source": [
        "plot_confusion_matrix(model, X_test, y_test)\n",
        "plt.show()"
      ],
      "execution_count": null,
      "outputs": [
        {
          "output_type": "display_data",
          "data": {
            "image/png": "[encoded data removed]",
            "text/plain": [
              "<Figure size 432x288 with 2 Axes>"
            ]
          },
          "metadata": {
            "tags": [],
            "needs_background": "light"
          }
        }
      ]
    },
    {
      "cell_type": "markdown",
      "metadata": {
        "id": "0dpNN2Im3OVf"
      },
      "source": [
        "<font color=\"red\">**EXERCISE:**<br>\n",
        "**1. Calculate the recall, precision and f1_score.** <br>\n",
        "**2. Plot your results.**"
      ]
    },
    {
      "cell_type": "markdown",
      "metadata": {
        "id": "yUy6G32i4uou"
      },
      "source": [
        "## **Visualizing a Tree in the Random Forest**"
      ]
    },
    {
      "cell_type": "code",
      "metadata": {
        "id": "Y6syDF216p5L"
      },
      "source": [
        "# class_names = [str(x) for x in y_train.unique()]"
      ],
      "execution_count": null,
      "outputs": []
    },
    {
      "cell_type": "code",
      "metadata": {
        "id": "GBMxJYc-4t0p"
      },
      "source": [
        "# from graphviz import Source\n",
        "# from sklearn.tree import export_graphviz\n",
        "\n",
        "# export_graphviz(\n",
        "#         model.estimators_[0],\n",
        "#         out_file=os.path.join(ROOT_DIR, \"a_tree_in_the_forest.dot\"),\n",
        "#         feature_names=X_train.columns,\n",
        "#         class_names=y_train.unique(),\n",
        "#     )\n",
        "\n",
        "# Source.from_file(os.path.join(ROOT_DIR, \"a_tree_in_the_forest.dot\"))"
      ],
      "execution_count": null,
      "outputs": []
    },
    {
      "cell_type": "markdown",
      "metadata": {
        "id": "GOfmxXC4pbOF"
      },
      "source": [
        "## **Body Mass Index**"
      ]
    },
    {
      "cell_type": "markdown",
      "metadata": {
        "id": "V25WarXlTg49"
      },
      "source": [
        "A regular measure, [Body Mass Index (BMI)](https://en.wikipedia.org/wiki/Body_mass_index), used to categorize a person as underweight, normal weight, overweight, or obese, it is calculated using `height` and `weight`, these are two features that exist in this dataset."
      ]
    },
    {
      "cell_type": "code",
      "metadata": {
        "id": "KZqlpI-yTg4-"
      },
      "source": [
        "# Body Mass Index\n",
        "def bmi(weight, height):\n",
        "    \"\"\"\n",
        "        Calculates the body mass index.\n",
        "    \"\"\"\n",
        "    return weight / (height**2)\n",
        "\n",
        "df_copy['bmi'] = bmi(df_copy['Weight'], df_copy['Height'])"
      ],
      "execution_count": null,
      "outputs": []
    },
    {
      "cell_type": "code",
      "metadata": {
        "id": "Q7jWuaOUTg4_"
      },
      "source": [
        "# Correlation of the new variable, using the correlation ratio (categorical-continuous case)\n",
        "correlation_ratio(df_copy['Weight_classification'], df_copy['bmi'])"
      ],
      "execution_count": null,
      "outputs": []
    },
    {
      "cell_type": "markdown",
      "metadata": {
        "id": "sthsKhqupxtn"
      },
      "source": [
        "<font color=\"blue\">Do we need an ML model for this?"
      ]
    }
  ]
}